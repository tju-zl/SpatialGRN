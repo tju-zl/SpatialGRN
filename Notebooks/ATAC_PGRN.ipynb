{
 "cells": [
  {
   "cell_type": "markdown",
   "metadata": {},
   "source": [
    "This is a tutorial of prior grn inference process. (Modified from Dictys.)\n",
    "\n",
    "RNA and ATAC dataset"
   ]
  },
  {
   "cell_type": "code",
   "execution_count": 8,
   "metadata": {},
   "outputs": [],
   "source": [
    "import os,sys\n",
    "sys.path.append(os.path.realpath(os.path.join(os.getcwd(), '..')))\n",
    "import warnings\n",
    "warnings.filterwarnings(\"ignore\") \n",
    "import scanpy as sc\n",
    "import pandas as pd\n",
    "import numpy as np\n",
    "import matplotlib.pyplot as plt"
   ]
  },
  {
   "cell_type": "code",
   "execution_count": 6,
   "metadata": {},
   "outputs": [
    {
     "data": {
      "text/plain": [
       "Namespace(clusters=0, dataset_path='../Data/Mouse_Brain', embed_dim=10, eval=False, flow='source_to_target', gpu=0, hops=3, hvgs=3000, infer_mode='simplex', latent_dim=30, log_file='../Log', log_steps=10, lr=0.0005, max_epoch=20, max_neighbors=8, n_hops=3, n_randomwalk=[5, 10, 15], out_file='../Output', project_name='SpatialGRN', q_randomwalk=[1, 1.5], seed=2024, spread=0.003, srt_resolution=2, tau=1, version='v_1.0', visualize=True, wegiht_decay=1e-06)"
      ]
     },
     "execution_count": 6,
     "metadata": {},
     "output_type": "execute_result"
    }
   ],
   "source": [
    "from SpatialGRN.config import config\n",
    "opt = config()\n",
    "args = opt.parse_args(['--gpu', '0'])\n",
    "args.dataset_path = '../Data/Mouse_Brain'\n",
    "args"
   ]
  },
  {
   "cell_type": "code",
   "execution_count": 7,
   "metadata": {},
   "outputs": [],
   "source": [
    "from SpatialGRN.utils import set_random_seed\n",
    "set_random_seed(args.seed)"
   ]
  },
  {
   "cell_type": "code",
   "execution_count": 30,
   "metadata": {},
   "outputs": [
    {
     "data": {
      "text/plain": [
       "AnnData object with n_obs × n_vars = 9215 × 22914\n",
       "    obs: 'nCount_Spatial', 'nFeature_Spatial', 'nCount_SCT', 'nFeature_SCT', 'nCount_ATAC', 'nFeature_ATAC', 'nCount_peaks', 'nFeature_peaks', 'RNA_clusters', 'ATAC_clusters'\n",
       "    var: 'name'\n",
       "    obsm: 'X_pca', 'X_umap', 'spatial'"
      ]
     },
     "execution_count": 30,
     "metadata": {},
     "output_type": "execute_result"
    }
   ],
   "source": [
    "adata = sc.read_h5ad(os.path.join(args.dataset_path, 'adata_RNA.h5ad'))\n",
    "adata"
   ]
  },
  {
   "cell_type": "code",
   "execution_count": 43,
   "metadata": {},
   "outputs": [
    {
     "data": {
      "text/plain": [
       "True"
      ]
     },
     "execution_count": 43,
     "metadata": {},
     "output_type": "execute_result"
    }
   ],
   "source": [
    "\"Ahr\" in adata.var_names"
   ]
  },
  {
   "cell_type": "code",
   "execution_count": 55,
   "metadata": {},
   "outputs": [
    {
     "data": {
      "text/plain": [
       "AnnData object with n_obs × n_vars = 9215 × 121068\n",
       "    obs: 'nCount_Spatial', 'nFeature_Spatial', 'nCount_SCT', 'nFeature_SCT', 'nCount_ATAC', 'nFeature_ATAC', 'nCount_peaks', 'nFeature_peaks', 'RNA_clusters', 'ATAC_clusters'\n",
       "    var: 'count', 'percentile'\n",
       "    uns: 'ATAC', 'ATAC_clusters_colors', 'umap'\n",
       "    obsm: 'X_lsi', 'X_pca', 'X_umap', 'spatial'\n",
       "    obsp: 'ATAC_connectivities', 'ATAC_distances'"
      ]
     },
     "execution_count": 55,
     "metadata": {},
     "output_type": "execute_result"
    }
   ],
   "source": [
    "adata = sc.read_h5ad(os.path.join(args.dataset_path, 'adata_peaks_normalized.h5ad'))\n",
    "adata"
   ]
  },
  {
   "cell_type": "markdown",
   "metadata": {},
   "source": [
    "要设计的目标格式"
   ]
  },
  {
   "cell_type": "code",
   "execution_count": 24,
   "metadata": {},
   "outputs": [
    {
     "name": "stdout",
     "output_type": "stream",
     "text": [
      "    TF Target Gene  Distance\n",
      "0  TF1       GeneA      1000\n",
      "1  TF2       GeneB       500\n",
      "2  TF1       GeneC      1200\n",
      "3  TF3       GeneA       300\n"
     ]
    }
   ],
   "source": [
    "import pandas as pd\n",
    "\n",
    "# 示例DataFrame，包含TF、目标基因和它们之间的距离\n",
    "df = pd.DataFrame({\n",
    "    'tf': ['TF1', 'TF2', 'TF1', 'TF3'],\n",
    "    'gene': ['GeneA', 'GeneB', 'GeneC', 'GeneA'],\n",
    "    'distance': [1000, 500, 1200, 300]\n",
    "})\n",
    "\n",
    "# 构建邻接表\n",
    "adjacency_table = pd.DataFrame({\n",
    "    'TF': df['tf'],\n",
    "    'Target Gene': df['gene'],\n",
    "    'Distance': df['distance']\n",
    "})\n",
    "\n",
    "# 打印结果\n",
    "print(adjacency_table)\n",
    "\n",
    "# 将邻接表保存为CSV文件，便于以后加载\n",
    "adjacency_table.to_csv('tf_binding_adjacency_table.csv', index=False, header=False)\n"
   ]
  },
  {
   "cell_type": "code",
   "execution_count": 52,
   "metadata": {},
   "outputs": [
    {
     "data": {
      "text/html": [
       "<div>\n",
       "<style scoped>\n",
       "    .dataframe tbody tr th:only-of-type {\n",
       "        vertical-align: middle;\n",
       "    }\n",
       "\n",
       "    .dataframe tbody tr th {\n",
       "        vertical-align: top;\n",
       "    }\n",
       "\n",
       "    .dataframe thead th {\n",
       "        text-align: right;\n",
       "    }\n",
       "</style>\n",
       "<table border=\"1\" class=\"dataframe\">\n",
       "  <thead>\n",
       "    <tr style=\"text-align: right;\">\n",
       "      <th></th>\n",
       "      <th>&gt;dKhGCGTGh</th>\n",
       "      <th>AHR_HUMAN.H11MO.0.B</th>\n",
       "      <th>3.3775000000000004</th>\n",
       "    </tr>\n",
       "  </thead>\n",
       "  <tbody>\n",
       "    <tr>\n",
       "      <th>0.262728374765856</th>\n",
       "      <td>0.1227600511842322</td>\n",
       "      <td>0.362726</td>\n",
       "      <td>0.251786</td>\n",
       "    </tr>\n",
       "    <tr>\n",
       "      <th>0.07633328991810645</th>\n",
       "      <td>0.08258130543118362</td>\n",
       "      <td>0.225933</td>\n",
       "      <td>0.615152</td>\n",
       "    </tr>\n",
       "    <tr>\n",
       "      <th>0.14450570038747923</th>\n",
       "      <td>0.28392173880411337</td>\n",
       "      <td>0.138154</td>\n",
       "      <td>0.433418</td>\n",
       "    </tr>\n",
       "    <tr>\n",
       "      <th>0.023935814057894068</th>\n",
       "      <td>0.016203821748029118</td>\n",
       "      <td>0.925328</td>\n",
       "      <td>0.034532</td>\n",
       "    </tr>\n",
       "    <tr>\n",
       "      <th>0.007919544273173793</th>\n",
       "      <td>0.953597675415874</td>\n",
       "      <td>0.017308</td>\n",
       "      <td>0.021174</td>\n",
       "    </tr>\n",
       "    <tr>\n",
       "      <th>...</th>\n",
       "      <td>...</td>\n",
       "      <td>...</td>\n",
       "      <td>...</td>\n",
       "    </tr>\n",
       "    <tr>\n",
       "      <th>0.0015159934114744613</th>\n",
       "      <td>0.0015159934114744613</td>\n",
       "      <td>0.995452</td>\n",
       "      <td>0.001516</td>\n",
       "    </tr>\n",
       "    <tr>\n",
       "      <th>0.0015159934114744613</th>\n",
       "      <td>0.9885735697562056</td>\n",
       "      <td>0.001516</td>\n",
       "      <td>0.008394</td>\n",
       "    </tr>\n",
       "    <tr>\n",
       "      <th>0.9857791994398987</th>\n",
       "      <td>0.002160848099852988</td>\n",
       "      <td>0.009039</td>\n",
       "      <td>0.003021</td>\n",
       "    </tr>\n",
       "    <tr>\n",
       "      <th>0.17734637177601936</th>\n",
       "      <td>0.46452165966725645</td>\n",
       "      <td>0.168748</td>\n",
       "      <td>0.189384</td>\n",
       "    </tr>\n",
       "    <tr>\n",
       "      <th>0.23839261560918654</th>\n",
       "      <td>0.18508462803656167</td>\n",
       "      <td>0.092226</td>\n",
       "      <td>0.484297</td>\n",
       "    </tr>\n",
       "  </tbody>\n",
       "</table>\n",
       "<p>11304 rows × 3 columns</p>\n",
       "</div>"
      ],
      "text/plain": [
       "                                  >dKhGCGTGh  AHR_HUMAN.H11MO.0.B  \\\n",
       "0.262728374765856         0.1227600511842322             0.362726   \n",
       "0.07633328991810645      0.08258130543118362             0.225933   \n",
       "0.14450570038747923      0.28392173880411337             0.138154   \n",
       "0.023935814057894068    0.016203821748029118             0.925328   \n",
       "0.007919544273173793       0.953597675415874             0.017308   \n",
       "...                                      ...                  ...   \n",
       "0.0015159934114744613  0.0015159934114744613             0.995452   \n",
       "0.0015159934114744613     0.9885735697562056             0.001516   \n",
       "0.9857791994398987      0.002160848099852988             0.009039   \n",
       "0.17734637177601936      0.46452165966725645             0.168748   \n",
       "0.23839261560918654      0.18508462803656167             0.092226   \n",
       "\n",
       "                       3.3775000000000004  \n",
       "0.262728374765856                0.251786  \n",
       "0.07633328991810645              0.615152  \n",
       "0.14450570038747923              0.433418  \n",
       "0.023935814057894068             0.034532  \n",
       "0.007919544273173793             0.021174  \n",
       "...                                   ...  \n",
       "0.0015159934114744613            0.001516  \n",
       "0.0015159934114744613            0.008394  \n",
       "0.9857791994398987               0.003021  \n",
       "0.17734637177601936              0.189384  \n",
       "0.23839261560918654              0.484297  \n",
       "\n",
       "[11304 rows x 3 columns]"
      ]
     },
     "execution_count": 52,
     "metadata": {},
     "output_type": "execute_result"
    }
   ],
   "source": [
    "import pandas as pd\n",
    "motif = pd.read_csv('/home/zl/SpatialGRN/Data/sc/motifs.motif', sep='\\t')\n",
    "motif"
   ]
  },
  {
   "cell_type": "markdown",
   "metadata": {},
   "source": []
  },
  {
   "cell_type": "code",
   "execution_count": 57,
   "metadata": {},
   "outputs": [
    {
     "ename": "AttributeError",
     "evalue": "'DataFrame' object has no attribute 'pssm'",
     "output_type": "error",
     "traceback": [
      "\u001b[0;31m---------------------------------------------------------------------------\u001b[0m",
      "\u001b[0;31mAttributeError\u001b[0m                            Traceback (most recent call last)",
      "\u001b[0;32m/tmp/ipykernel_3135907/2618663070.py\u001b[0m in \u001b[0;36m?\u001b[0;34m()\u001b[0m\n\u001b[1;32m      5\u001b[0m \u001b[0;32mfrom\u001b[0m \u001b[0mBio\u001b[0m\u001b[0;34m.\u001b[0m\u001b[0mSeq\u001b[0m \u001b[0;32mimport\u001b[0m \u001b[0mSeq\u001b[0m\u001b[0;34m\u001b[0m\u001b[0;34m\u001b[0m\u001b[0m\n\u001b[1;32m      6\u001b[0m \u001b[0;32mimport\u001b[0m \u001b[0mnumpy\u001b[0m \u001b[0;32mas\u001b[0m \u001b[0mnp\u001b[0m\u001b[0;34m\u001b[0m\u001b[0;34m\u001b[0m\u001b[0m\n\u001b[0;32m----> 7\u001b[0;31m \u001b[0;32mfrom\u001b[0m \u001b[0mBio\u001b[0m \u001b[0;32mimport\u001b[0m \u001b[0mmotifs\u001b[0m\u001b[0;34m\u001b[0m\u001b[0;34m\u001b[0m\u001b[0m\n\u001b[0m\u001b[1;32m      8\u001b[0m \u001b[0mresults\u001b[0m \u001b[0;34m=\u001b[0m \u001b[0;34m[\u001b[0m\u001b[0;34m]\u001b[0m\u001b[0;34m\u001b[0m\u001b[0;34m\u001b[0m\u001b[0m\n\u001b[1;32m      9\u001b[0m \u001b[0;32mfor\u001b[0m \u001b[0midx\u001b[0m\u001b[0;34m,\u001b[0m \u001b[0mpeak_seq\u001b[0m \u001b[0;32min\u001b[0m \u001b[0menumerate\u001b[0m\u001b[0;34m(\u001b[0m\u001b[0madata\u001b[0m\u001b[0;34m.\u001b[0m\u001b[0mvar_names\u001b[0m\u001b[0;34m)\u001b[0m\u001b[0;34m:\u001b[0m\u001b[0;34m\u001b[0m\u001b[0;34m\u001b[0m\u001b[0m\n\u001b[1;32m     10\u001b[0m     \u001b[0msequence\u001b[0m \u001b[0;34m=\u001b[0m \u001b[0mSeq\u001b[0m\u001b[0;34m(\u001b[0m\u001b[0mpeak_seq\u001b[0m\u001b[0;34m)\u001b[0m\u001b[0;34m\u001b[0m\u001b[0;34m\u001b[0m\u001b[0m\n",
      "\u001b[0;32m~/anaconda3/envs/pyg/lib/python3.8/site-packages/pandas/core/generic.py\u001b[0m in \u001b[0;36m?\u001b[0;34m(self, name)\u001b[0m\n\u001b[1;32m   5985\u001b[0m             \u001b[0;32mand\u001b[0m \u001b[0mname\u001b[0m \u001b[0;32mnot\u001b[0m \u001b[0;32min\u001b[0m \u001b[0mself\u001b[0m\u001b[0;34m.\u001b[0m\u001b[0m_accessors\u001b[0m\u001b[0;34m\u001b[0m\u001b[0;34m\u001b[0m\u001b[0m\n\u001b[1;32m   5986\u001b[0m             \u001b[0;32mand\u001b[0m \u001b[0mself\u001b[0m\u001b[0;34m.\u001b[0m\u001b[0m_info_axis\u001b[0m\u001b[0;34m.\u001b[0m\u001b[0m_can_hold_identifiers_and_holds_name\u001b[0m\u001b[0;34m(\u001b[0m\u001b[0mname\u001b[0m\u001b[0;34m)\u001b[0m\u001b[0;34m\u001b[0m\u001b[0;34m\u001b[0m\u001b[0m\n\u001b[1;32m   5987\u001b[0m         ):\n\u001b[1;32m   5988\u001b[0m             \u001b[0;32mreturn\u001b[0m \u001b[0mself\u001b[0m\u001b[0;34m[\u001b[0m\u001b[0mname\u001b[0m\u001b[0;34m]\u001b[0m\u001b[0;34m\u001b[0m\u001b[0;34m\u001b[0m\u001b[0m\n\u001b[0;32m-> 5989\u001b[0;31m         \u001b[0;32mreturn\u001b[0m \u001b[0mobject\u001b[0m\u001b[0;34m.\u001b[0m\u001b[0m__getattribute__\u001b[0m\u001b[0;34m(\u001b[0m\u001b[0mself\u001b[0m\u001b[0;34m,\u001b[0m \u001b[0mname\u001b[0m\u001b[0;34m)\u001b[0m\u001b[0;34m\u001b[0m\u001b[0;34m\u001b[0m\u001b[0m\n\u001b[0m",
      "\u001b[0;31mAttributeError\u001b[0m: 'DataFrame' object has no attribute 'pssm'"
     ]
    }
   ],
   "source": [
    "from Bio.Seq import Seq\n",
    "import numpy as np\n",
    "from Bio import motifs\n",
    "results = []\n",
    "for idx, peak_seq in enumerate(adata.var_names):\n",
    "    sequence = Seq(peak_seq)\n",
    "    for position, score in motif.pssm.search(sequence, threshold=0.0):\n",
    "        results.append({'peak_index': idx, 'position': position, 'score': score})"
   ]
  }
 ],
 "metadata": {
  "kernelspec": {
   "display_name": "pyg",
   "language": "python",
   "name": "python3"
  },
  "language_info": {
   "codemirror_mode": {
    "name": "ipython",
    "version": 3
   },
   "file_extension": ".py",
   "mimetype": "text/x-python",
   "name": "python",
   "nbconvert_exporter": "python",
   "pygments_lexer": "ipython3",
   "version": "3.8.18"
  }
 },
 "nbformat": 4,
 "nbformat_minor": 2
}
