{
 "cells": [
  {
   "cell_type": "markdown",
   "metadata": {},
   "source": [
    "Tutorials on 3-D tensor of generating cellxgenexembedding representation\n",
    "===\n",
    "\n",
    "embed_dim = 1 x raw_gene + 5 x hop_neighbors + (embed_dim - 5) x random_walk"
   ]
  },
  {
   "cell_type": "code",
   "execution_count": 10,
   "metadata": {},
   "outputs": [
    {
     "name": "stdout",
     "output_type": "stream",
     "text": [
      "tensor([[0, 1, 1, 2],\n",
      "        [1, 0, 2, 1]])\n"
     ]
    }
   ],
   "source": [
    "import os,sys\n",
    "sys.path.append(os.path.realpath(os.path.join(os.getcwd(), '..')))\n",
    "import warnings\n",
    "warnings.filterwarnings(\"ignore\")\n"
   ]
  },
  {
   "cell_type": "markdown",
   "metadata": {},
   "source": [
    "卷积层"
   ]
  },
  {
   "cell_type": "code",
   "execution_count": 69,
   "metadata": {},
   "outputs": [],
   "source": [
    "from torch_geometric.nn import MessagePassing\n",
    "from torch_geometric.utils import add_remaining_self_loops, spmm\n",
    "class GeneRep(MessagePassing):\n",
    "    def __init__(self, add_self_loop=True):\n",
    "        super().__init__(flow='source_to_target', aggr='mean')\n",
    "        self.n_hops = 3\n",
    "        self.add_self_loop = add_self_loop\n",
    "        \n",
    "    def forward(self, x, edge_index):\n",
    "        if self.add_self_loop:\n",
    "            edge_index = add_remaining_self_loops(edge_index)[0]\n",
    "        emb = []\n",
    "        emb.append(x)\n",
    "        for i in range(self.n_hops):\n",
    "            emb.append(self.propagate(edge_index, x=emb[i]))\n",
    "        return emb\n",
    "    def message(self, x_j):\n",
    "        print('1')\n",
    "        return x_j\n",
    "\n",
    "    # def message_and_aggregate(self, adj_t, x):\n",
    "    #     print(adj_t)\n",
    "    #     return spmm(adj_t, x, reduce=self.aggr)"
   ]
  },
  {
   "cell_type": "code",
   "execution_count": 19,
   "metadata": {},
   "outputs": [
    {
     "data": {
      "text/plain": [
       "(tensor([[-1.,  0.],\n",
       "         [ 0.,  1.],\n",
       "         [ 1.,  1.]]),\n",
       " tensor([[0, 1, 1, 2],\n",
       "         [1, 0, 2, 1]]))"
      ]
     },
     "execution_count": 19,
     "metadata": {},
     "output_type": "execute_result"
    }
   ],
   "source": [
    "import torch\n",
    "from torch_geometric.data import Data\n",
    "\n",
    "edge_index = torch.tensor([[0, 1],\n",
    "                           [1, 0],\n",
    "                           [1, 2],\n",
    "                           [2, 1]], dtype=torch.long).T\n",
    "x = torch.tensor([[-1, 0], [0, 1], [1, 1]], dtype=torch.float)\n",
    "x, edge_index"
   ]
  },
  {
   "cell_type": "code",
   "execution_count": 70,
   "metadata": {},
   "outputs": [
    {
     "name": "stdout",
     "output_type": "stream",
     "text": [
      "1\n",
      "1\n",
      "1\n"
     ]
    }
   ],
   "source": [
    "model = GeneRep()\n",
    "emb=model(x, edge_index)"
   ]
  },
  {
   "cell_type": "code",
   "execution_count": 57,
   "metadata": {},
   "outputs": [
    {
     "data": {
      "text/plain": [
       "[tensor([[-1.,  0.],\n",
       "         [ 0.,  1.],\n",
       "         [ 1.,  1.]]),\n",
       " tensor([[-0.5000,  0.5000],\n",
       "         [ 0.0000,  0.6667],\n",
       "         [ 0.5000,  1.0000]]),\n",
       " tensor([[-0.2500,  0.5833],\n",
       "         [ 0.0000,  0.7222],\n",
       "         [ 0.2500,  0.8333]]),\n",
       " tensor([[-0.1250,  0.6528],\n",
       "         [ 0.0000,  0.7130],\n",
       "         [ 0.1250,  0.7778]])]"
      ]
     },
     "execution_count": 57,
     "metadata": {},
     "output_type": "execute_result"
    }
   ],
   "source": [
    "emb"
   ]
  },
  {
   "cell_type": "code",
   "execution_count": 58,
   "metadata": {},
   "outputs": [
    {
     "data": {
      "text/plain": [
       "tensor([[[-1.0000, -0.5000, -0.2500, -0.1250],\n",
       "         [ 0.0000,  0.5000,  0.5833,  0.6528]],\n",
       "\n",
       "        [[ 0.0000,  0.0000,  0.0000,  0.0000],\n",
       "         [ 1.0000,  0.6667,  0.7222,  0.7130]],\n",
       "\n",
       "        [[ 1.0000,  0.5000,  0.2500,  0.1250],\n",
       "         [ 1.0000,  1.0000,  0.8333,  0.7778]]])"
      ]
     },
     "execution_count": 58,
     "metadata": {},
     "output_type": "execute_result"
    }
   ],
   "source": [
    "torch.cat(emb).view(4,3,2).permute(1,2,0)"
   ]
  },
  {
   "cell_type": "markdown",
   "metadata": {},
   "source": [
    "随机游走"
   ]
  },
  {
   "cell_type": "code",
   "execution_count": 1,
   "metadata": {},
   "outputs": [],
   "source": [
    "import networkx as nx # 图数据挖掘\n",
    "import numpy as np # 数据分析\n",
    "import random # 随机数\n",
    "\n",
    "# 数据可视化\n",
    "import matplotlib.pyplot as plt\n",
    "%matplotlib inline\n",
    "plt.rcParams['font.sans-serif']=['SimHei']  # 用来正常显示中文标签  \n",
    "plt.rcParams['axes.unicode_minus']=False  # 用来正常显示负号b"
   ]
  },
  {
   "cell_type": "code",
   "execution_count": 2,
   "metadata": {},
   "outputs": [],
   "source": [
    "# 《悲惨世界》人物数据集\n",
    "G = nx.les_miserables_graph()"
   ]
  },
  {
   "cell_type": "code",
   "execution_count": 3,
   "metadata": {},
   "outputs": [],
   "source": [
    "from node2vec import Node2Vec"
   ]
  },
  {
   "cell_type": "code",
   "execution_count": 11,
   "metadata": {},
   "outputs": [
    {
     "data": {
      "application/vnd.jupyter.widget-view+json": {
       "model_id": "57495da26c554672ab12065c212774ab",
       "version_major": 2,
       "version_minor": 0
      },
      "text/plain": [
       "Computing transition probabilities:   0%|          | 0/77 [00:00<?, ?it/s]"
      ]
     },
     "metadata": {},
     "output_type": "display_data"
    },
    {
     "name": "stderr",
     "output_type": "stream",
     "text": [
      "Generating walks (CPU: 1): 100%|██████████| 1/1 [00:00<00:00, 590.41it/s]\n",
      "Generating walks (CPU: 2): 0it [00:00, ?it/s]\n",
      "Generating walks (CPU: 3): 0it [00:00, ?it/s]\n",
      "Generating walks (CPU: 4): 0it [00:00, ?it/s]\n"
     ]
    }
   ],
   "source": [
    "node2vec = Node2Vec(G, \n",
    "                    dimensions=32,  # 嵌入维度\n",
    "                    p=1,            # 回家参数\n",
    "                    q=3,          # 外出参数\n",
    "                    walk_length=10, # 随机游走最大长度\n",
    "                    num_walks=1,  # 每个节点作为起始节点生成的随机游走个数\n",
    "                    workers=4       # 并行线程数\n",
    "                   )"
   ]
  },
  {
   "cell_type": "code",
   "execution_count": 12,
   "metadata": {},
   "outputs": [
    {
     "data": {
      "text/plain": [
       "1"
      ]
     },
     "execution_count": 12,
     "metadata": {},
     "output_type": "execute_result"
    }
   ],
   "source": [
    "node2vec.num_walks"
   ]
  },
  {
   "cell_type": "code",
   "execution_count": 13,
   "metadata": {},
   "outputs": [
    {
     "data": {
      "text/plain": [
       "77"
      ]
     },
     "execution_count": 13,
     "metadata": {},
     "output_type": "execute_result"
    }
   ],
   "source": [
    "len(node2vec.walks)"
   ]
  },
  {
   "cell_type": "markdown",
   "metadata": {},
   "source": [
    "PyG实现"
   ]
  },
  {
   "cell_type": "code",
   "execution_count": 20,
   "metadata": {},
   "outputs": [],
   "source": [
    "from torch_geometric.data import Data\n",
    "from torch_geometric.utils import to_networkx\n",
    "data = Data(edge_index=edge_index, num_nodes=3)\n",
    "G = to_networkx(data)"
   ]
  },
  {
   "cell_type": "code",
   "execution_count": 21,
   "metadata": {},
   "outputs": [
    {
     "data": {
      "application/vnd.jupyter.widget-view+json": {
       "model_id": "8127beb347fa4855a489013dc784b59b",
       "version_major": 2,
       "version_minor": 0
      },
      "text/plain": [
       "Computing transition probabilities:   0%|          | 0/3 [00:00<?, ?it/s]"
      ]
     },
     "metadata": {},
     "output_type": "display_data"
    },
    {
     "name": "stderr",
     "output_type": "stream",
     "text": [
      "Generating walks (CPU: 2): 0it [00:00, ?it/s]/1 [00:00<?, ?it/s]\n",
      "Generating walks (CPU: 3): 0it [00:00, ?it/s]\n",
      "Generating walks (CPU: 1): 100%|██████████| 1/1 [00:00<00:00, 10645.44it/s]\n",
      "Generating walks (CPU: 4): 0it [00:00, ?it/s]\n"
     ]
    }
   ],
   "source": [
    "from node2vec import Node2Vec\n",
    "node2vec = Node2Vec(G, \n",
    "                    dimensions=1,  # 嵌入维度\n",
    "                    p=1,            # 回家参数\n",
    "                    q=3,          # 外出参数\n",
    "                    walk_length=10, # 随机游走最大长度\n",
    "                    num_walks=1,  # 每个节点作为起始节点生成的随机游走个数\n",
    "                    workers=4       # 并行线程数\n",
    "                   )"
   ]
  },
  {
   "cell_type": "code",
   "execution_count": 24,
   "metadata": {},
   "outputs": [
    {
     "data": {
      "text/plain": [
       "tensor([[0, 1, 1, 2],\n",
       "        [1, 0, 2, 1]])"
      ]
     },
     "execution_count": 24,
     "metadata": {},
     "output_type": "execute_result"
    }
   ],
   "source": [
    "edge_index"
   ]
  },
  {
   "cell_type": "code",
   "execution_count": 27,
   "metadata": {},
   "outputs": [
    {
     "data": {
      "text/plain": [
       "NodeView((0, 1, 2))"
      ]
     },
     "execution_count": 27,
     "metadata": {},
     "output_type": "execute_result"
    }
   ],
   "source": [
    "G.nodes()"
   ]
  },
  {
   "cell_type": "code",
   "execution_count": 35,
   "metadata": {},
   "outputs": [
    {
     "data": {
      "text/plain": [
       "[['2', '1', '0', '1', '0', '1', '0', '1', '2', '1'],\n",
       " ['0', '1', '0', '1', '2', '1', '2', '1', '0', '1'],\n",
       " ['1', '2', '1', '0', '1', '2', '1', '0', '1', '0']]"
      ]
     },
     "execution_count": 35,
     "metadata": {},
     "output_type": "execute_result"
    }
   ],
   "source": [
    "node2vec.walks"
   ]
  },
  {
   "cell_type": "code",
   "execution_count": 40,
   "metadata": {},
   "outputs": [
    {
     "data": {
      "text/plain": [
       "[[2, 1, 0, 1, 0, 1, 0, 1, 2, 1],\n",
       " [0, 1, 0, 1, 2, 1, 2, 1, 0, 1],\n",
       " [1, 2, 1, 0, 1, 2, 1, 0, 1, 0]]"
      ]
     },
     "execution_count": 40,
     "metadata": {},
     "output_type": "execute_result"
    }
   ],
   "source": [
    "walks_int = [[int(node) for node in walk] for walk in node2vec.walks]\n",
    "walks_int"
   ]
  },
  {
   "cell_type": "code",
   "execution_count": 52,
   "metadata": {},
   "outputs": [
    {
     "data": {
      "text/plain": [
       "array([[2, 1, 0, 1, 0, 1, 0, 1, 2, 1, 0, 1, 0, 1, 2, 1, 2, 1, 0, 1, 1, 2,\n",
       "        1, 0, 1, 2, 1, 0, 1, 0],\n",
       "       [0, 0, 0, 0, 0, 0, 0, 0, 0, 0, 1, 1, 1, 1, 1, 1, 1, 1, 1, 1, 2, 2,\n",
       "        2, 2, 2, 2, 2, 2, 2, 2]])"
      ]
     },
     "execution_count": 52,
     "metadata": {},
     "output_type": "execute_result"
    }
   ],
   "source": [
    "edge = [[],[]]\n",
    "for i in range(len(walks_int)):\n",
    "    for j in range(10):\n",
    "        edge[0].append(walks_int[i][j])\n",
    "        edge[1].append(i)\n",
    "np.array(edge)"
   ]
  }
 ],
 "metadata": {
  "kernelspec": {
   "display_name": "pyg",
   "language": "python",
   "name": "python3"
  },
  "language_info": {
   "codemirror_mode": {
    "name": "ipython",
    "version": 3
   },
   "file_extension": ".py",
   "mimetype": "text/x-python",
   "name": "python",
   "nbconvert_exporter": "python",
   "pygments_lexer": "ipython3",
   "version": "3.8.18"
  }
 },
 "nbformat": 4,
 "nbformat_minor": 2
}
