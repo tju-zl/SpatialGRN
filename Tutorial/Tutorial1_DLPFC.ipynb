{
 "cells": [
  {
   "cell_type": "code",
   "execution_count": null,
   "metadata": {},
   "outputs": [],
   "source": [
    "log_dir = '../Log/' + '_'.join([os.path.basename(args.dataset_path).split('.')[0], args.version])"
   ]
  }
 ],
 "metadata": {
  "language_info": {
   "name": "python"
  }
 },
 "nbformat": 4,
 "nbformat_minor": 2
}
