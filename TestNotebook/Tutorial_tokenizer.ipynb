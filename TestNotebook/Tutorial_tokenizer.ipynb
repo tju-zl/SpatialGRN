{
 "cells": [
  {
   "cell_type": "markdown",
   "metadata": {},
   "source": [
    "### Tutorial for tokenizer"
   ]
  },
  {
   "cell_type": "code",
   "execution_count": 1,
   "metadata": {},
   "outputs": [],
   "source": [
    "import os,sys\n",
    "sys.path.append(os.path.realpath(os.path.join(os.getcwd(), '..')))\n",
    "import warnings\n",
    "import scanpy as sc\n",
    "import pandas as pd\n",
    "import numpy as np\n",
    "import matplotlib.pyplot as plt"
   ]
  },
  {
   "cell_type": "code",
   "execution_count": 2,
   "metadata": {},
   "outputs": [
    {
     "data": {
      "text/plain": [
       "Namespace(amp=True, att_mask=True, batch_size=32, clusters=0, d_model=100, dataset_path='/mnt/d/Dataset/SRT_Dataset/1-DLPFC/', decoder='NB', dropout=0.2, early_stop=True, eval=False, f_dim=512, fast=True, flow='source_to_target', gid_emb=50, gpu=0, hvgs=1200, latent_dim=64, log_file='../Log', log_steps=1, lr=0.0001, max_epoch=30, max_neighbors=6, n_gcn=3, n_head=4, n_layer=4, n_randomwalk=[5, 15], n_randwalk=50, n_spot=0, n_token=60697, out_file='../Output', p_randomwalk=[1, 1.5], project_name='SpatialGPT', q_randomwalk=[1, 0.5], schedule_ratio=0.9, seed=2024, srt_resolution=2, tau=1, version='dev-1.0', visual=True, vocab_path='/home/zl/SpatialGRN/Data/default_census_vocab.json', wegiht_decay=0)"
      ]
     },
     "execution_count": 2,
     "metadata": {},
     "output_type": "execute_result"
    }
   ],
   "source": [
    "from SpatialGPT.config import config\n",
    "opt = config()\n",
    "args = opt.parse_args(['--gpu', '0'])\n",
    "args.dataset_path = '/mnt/d/Dataset/SRT_Dataset/1-DLPFC/'\n",
    "args.max_epoch = 30\n",
    "if args.version.split('-')[0] != 'dev':\n",
    "    warnings.filterwarnings(\"ignore\")\n",
    "args"
   ]
  },
  {
   "cell_type": "code",
   "execution_count": 3,
   "metadata": {},
   "outputs": [],
   "source": [
    "from SpatialGPT.utils import set_random_seed\n",
    "set_random_seed(args.seed)"
   ]
  },
  {
   "cell_type": "markdown",
   "metadata": {},
   "source": [
    "**Read data**"
   ]
  },
  {
   "cell_type": "code",
   "execution_count": 4,
   "metadata": {},
   "outputs": [
    {
     "name": "stderr",
     "output_type": "stream",
     "text": [
      "/home/zl/anaconda3/envs/pyg/lib/python3.8/site-packages/anndata/_core/anndata.py:1840: UserWarning: Variable names are not unique. To make them unique, call `.var_names_make_unique`.\n",
      "  utils.warn_names_duplicates(\"var\")\n",
      "/home/zl/anaconda3/envs/pyg/lib/python3.8/site-packages/anndata/_core/anndata.py:1840: UserWarning: Variable names are not unique. To make them unique, call `.var_names_make_unique`.\n",
      "  utils.warn_names_duplicates(\"var\")\n"
     ]
    },
    {
     "data": {
      "text/plain": [
       "AnnData object with n_obs × n_vars = 4226 × 33538\n",
       "    obs: 'in_tissue', 'array_row', 'array_col'\n",
       "    var: 'gene_ids', 'feature_types', 'genome'\n",
       "    uns: 'spatial'\n",
       "    obsm: 'spatial'"
      ]
     },
     "execution_count": 4,
     "metadata": {},
     "output_type": "execute_result"
    }
   ],
   "source": [
    "sector = '151507'\n",
    "adata = sc.read_visium(os.path.join(args.dataset_path+sector))\n",
    "adata"
   ]
  },
  {
   "cell_type": "code",
   "execution_count": null,
   "metadata": {},
   "outputs": [],
   "source": []
  },
  {
   "cell_type": "code",
   "execution_count": null,
   "metadata": {},
   "outputs": [],
   "source": []
  },
  {
   "cell_type": "code",
   "execution_count": null,
   "metadata": {},
   "outputs": [],
   "source": []
  },
  {
   "cell_type": "code",
   "execution_count": null,
   "metadata": {},
   "outputs": [],
   "source": []
  },
  {
   "cell_type": "markdown",
   "metadata": {},
   "source": [
    "**Token generation**"
   ]
  },
  {
   "cell_type": "code",
   "execution_count": 6,
   "metadata": {},
   "outputs": [],
   "source": [
    "from SpatialGPT.tokenizer import GeneID\n"
   ]
  },
  {
   "cell_type": "code",
   "execution_count": 13,
   "metadata": {},
   "outputs": [
    {
     "data": {
      "text/plain": [
       "(True, 60697)"
      ]
     },
     "execution_count": 13,
     "metadata": {},
     "output_type": "execute_result"
    }
   ],
   "source": [
    "from pathlib import Path\n",
    "path = Path('/home/zl/SpatialGRN/Data/default_census_vocab.json')\n",
    "import json\n",
    "with path.open('r') as f:\n",
    "    tokens = json.load(f)\n",
    "vocab = GeneID.from_file(path)\n",
    "'<pad>' in vocab, len(vocab)"
   ]
  },
  {
   "cell_type": "code",
   "execution_count": 46,
   "metadata": {},
   "outputs": [
    {
     "data": {
      "text/plain": [
       "0.6814359830639871"
      ]
     },
     "execution_count": 46,
     "metadata": {},
     "output_type": "execute_result"
    }
   ],
   "source": [
    "adata.var[\"gene_name\"] = adata.var.index.tolist()\n",
    "adata.var[\"id_in_vocab\"] = [\n",
    "        1 if gene in vocab else -1 for gene in adata.var[\"gene_name\"]\n",
    "    ]\n",
    "gene_ids_in_vocab = np.array(adata.var[\"id_in_vocab\"])\n",
    "np.sum(gene_ids_in_vocab >= 0)/len(gene_ids_in_vocab)"
   ]
  },
  {
   "cell_type": "code",
   "execution_count": 52,
   "metadata": {},
   "outputs": [
    {
     "data": {
      "text/plain": [
       "AnnData object with n_obs × n_vars = 4226 × 33538\n",
       "    obs: 'in_tissue', 'array_row', 'array_col'\n",
       "    var: 'gene_ids', 'feature_types', 'genome', 'gene_name', 'id_in_vocab'\n",
       "    uns: 'spatial'\n",
       "    obsm: 'spatial'"
      ]
     },
     "execution_count": 52,
     "metadata": {},
     "output_type": "execute_result"
    }
   ],
   "source": [
    "adata"
   ]
  },
  {
   "cell_type": "code",
   "execution_count": 9,
   "metadata": {},
   "outputs": [
    {
     "name": "stdout",
     "output_type": "stream",
     "text": [
      "5\n",
      "7\n",
      "9\n",
      "11\n",
      "13\n"
     ]
    }
   ],
   "source": [
    "import numpy as np\n",
    "a=[5, 15]\n",
    "for i in range(a[0], a[1], 2):\n",
    "    print(i)"
   ]
  },
  {
   "cell_type": "code",
   "execution_count": 3,
   "metadata": {},
   "outputs": [],
   "source": [
    "import torch\n",
    "\n",
    "def mask_feature(x, mask_prob):\n",
    "    \"\"\"\n",
    "    Args:\n",
    "        x (torch.Tensor): 输入特征矩阵，形状为 (num_nodes, num_features)\n",
    "        mask_prob (float): 每个特征被掩盖的概率\n",
    "    Returns:\n",
    "        torch.Tensor: 掩盖后的特征矩阵\n",
    "    \"\"\"\n",
    "    # 生成与输入相同形状的掩码矩阵\n",
    "    mask = torch.bernoulli(torch.full(x.shape, 1 - mask_prob)).to(x.device)\n",
    "    # 应用掩码矩阵到输入特征\n",
    "    x_masked = x * mask\n",
    "    return x_masked\n"
   ]
  },
  {
   "cell_type": "code",
   "execution_count": 26,
   "metadata": {},
   "outputs": [
    {
     "name": "stdout",
     "output_type": "stream",
     "text": [
      "tensor([[1., 2., 3.],\n",
      "        [4., 5., 6.],\n",
      "        [7., 0., 9.]])\n"
     ]
    }
   ],
   "source": [
    "x = torch.tensor([[1.0, 2.0, 3.0], [4.0, 5.0, 6.0], [7.0, 8.0, 9.0]])\n",
    "mask_prob = 0.1\n",
    "x_masked = mask_feature(x, mask_prob)\n",
    "print(x_masked)\n"
   ]
  }
 ],
 "metadata": {
  "kernelspec": {
   "display_name": "pyg",
   "language": "python",
   "name": "python3"
  },
  "language_info": {
   "codemirror_mode": {
    "name": "ipython",
    "version": 3
   },
   "file_extension": ".py",
   "mimetype": "text/x-python",
   "name": "python",
   "nbconvert_exporter": "python",
   "pygments_lexer": "ipython3",
   "version": "3.8.18"
  }
 },
 "nbformat": 4,
 "nbformat_minor": 2
}
